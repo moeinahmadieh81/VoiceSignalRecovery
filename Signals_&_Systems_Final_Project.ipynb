{
  "nbformat": 4,
  "nbformat_minor": 0,
  "metadata": {
    "colab": {
      "provenance": []
    },
    "kernelspec": {
      "name": "python3",
      "display_name": "Python 3"
    },
    "language_info": {
      "name": "python"
    }
  },
  "cells": [
    {
      "cell_type": "code",
      "execution_count": null,
      "metadata": {
        "id": "7umj871NL3uk"
      },
      "outputs": [],
      "source": [
        "import numpy as np\n",
        "from numpy.fft import fft, ifft\n",
        "import matplotlib.pyplot as plt\n",
        "from google.colab import drive\n",
        "from matplotlib.pyplot import figure\n",
        "from scipy.io.wavfile import write\n",
        "from IPython.display import Audio "
      ]
    },
    {
      "cell_type": "code",
      "source": [
        "File = open('/content/input.txt')\n",
        "data_array = File.readlines()"
      ],
      "metadata": {
        "id": "pPStLOYmDXS5"
      },
      "execution_count": null,
      "outputs": []
    },
    {
      "cell_type": "code",
      "source": [
        "fourier_transform_of_data = np.abs(fft(data_array))"
      ],
      "metadata": {
        "id": "z7XOX2UZFWTg"
      },
      "execution_count": null,
      "outputs": []
    },
    {
      "cell_type": "code",
      "source": [
        "w = np.arange(0 , 4800000 , 1)"
      ],
      "metadata": {
        "id": "NwButew6Fbmw"
      },
      "execution_count": null,
      "outputs": []
    },
    {
      "cell_type": "code",
      "source": [
        "plt.plot(w,fft(data_array), label = \"Sig\")"
      ],
      "metadata": {
        "colab": {
          "base_uri": "https://localhost:8080/",
          "height": 366
        },
        "id": "xw6MuwDr75OM",
        "outputId": "5fbe404e-c410-4b6b-8dcf-f87d6c44c904"
      },
      "execution_count": null,
      "outputs": [
        {
          "output_type": "stream",
          "name": "stderr",
          "text": [
            "/usr/local/lib/python3.8/dist-packages/matplotlib/cbook/__init__.py:1317: ComplexWarning: Casting complex values to real discards the imaginary part\n",
            "  return np.asarray(x, float)\n"
          ]
        },
        {
          "output_type": "execute_result",
          "data": {
            "text/plain": [
              "[<matplotlib.lines.Line2D at 0x7fda44d38490>]"
            ]
          },
          "metadata": {},
          "execution_count": 78
        },
        {
          "output_type": "display_data",
          "data": {
            "text/plain": [
              "<Figure size 432x288 with 1 Axes>"
            ],
            "image/png": "[encoded data removed]"
          },
          "metadata": {
            "needs_background": "light"
          }
        }
      ]
    },
    {
      "cell_type": "code",
      "source": [
        "def middlePassFilter (x,w,c) :\n",
        "  filter = np.zeros(x.shape , dtype='complex128')\n",
        "  limit = 24 * 1000;\n",
        "\n",
        "  for i in w :\n",
        "    if (((i <= (c + limit)) and (i >= (c - limit))) or ((i <= (-c - limit)) and (i >= (-c + limit)))) :\n",
        "      filter[i] = 1; \n",
        "\n",
        "  res = np.zeros(x.shape , dtype='complex128')\n",
        "  \n",
        "  for i in w :\n",
        "    res[i] = x[i] * filter[i];\n",
        "\n",
        "  return res;"
      ],
      "metadata": {
        "id": "Zx6bQk54dR0s"
      },
      "execution_count": null,
      "outputs": []
    },
    {
      "cell_type": "code",
      "source": [
        "cutted_data = middlePassFilter(fourier_transform_of_data,w,96 * 1000)"
      ],
      "metadata": {
        "id": "RJ2ifOzhXKKJ"
      },
      "execution_count": null,
      "outputs": []
    },
    {
      "cell_type": "code",
      "source": [
        "plt.plot(w,ifft(cutted_data), label = \"Sig\")"
      ],
      "metadata": {
        "colab": {
          "base_uri": "https://localhost:8080/",
          "height": 359
        },
        "id": "YAFGmoZ0UAxW",
        "outputId": "321ad97c-fd54-40dc-f50c-82454913a28c"
      },
      "execution_count": null,
      "outputs": [
        {
          "output_type": "stream",
          "name": "stderr",
          "text": [
            "/usr/local/lib/python3.8/dist-packages/matplotlib/cbook/__init__.py:1317: ComplexWarning: Casting complex values to real discards the imaginary part\n",
            "  return np.asarray(x, float)\n"
          ]
        },
        {
          "output_type": "execute_result",
          "data": {
            "text/plain": [
              "[<matplotlib.lines.Line2D at 0x7fda44ce3a00>]"
            ]
          },
          "metadata": {},
          "execution_count": 80
        },
        {
          "output_type": "display_data",
          "data": {
            "text/plain": [
              "<Figure size 432x288 with 1 Axes>"
            ],
            "image/png": "[encoded data removed]"
          },
          "metadata": {
            "needs_background": "light"
          }
        }
      ]
    },
    {
      "cell_type": "code",
      "source": [
        "def write(pass_filter_data):\n",
        "  file_name = \"output.wav\"\n",
        "  f = open(file_name, \"w+\")\n",
        "  f.write(str(ifft(cutted_data)))\n",
        "  f.close()"
      ],
      "metadata": {
        "id": "v9Hx9pVLRvoB"
      },
      "execution_count": null,
      "outputs": []
    },
    {
      "cell_type": "code",
      "source": [
        "write(cutted_data)\n",
        "Audio(\"output.wav\")"
      ],
      "metadata": {
        "colab": {
          "base_uri": "https://localhost:8080/",
          "height": 75
        },
        "id": "7kZ3w7qp5sdl",
        "outputId": "f789acec-c885-4716-d423-44a8c331817a"
      },
      "execution_count": null,
      "outputs": [
        {
          "output_type": "execute_result",
          "data": {
            "text/plain": [
              "<IPython.lib.display.Audio object>"
            ],
            "text/html": [
              "\n",
              "                <audio  controls=\"controls\" >\n",
              "                    <source src=\"data:audio/x-wav;base64,WyAwLjAxMjYxMjk3LTAuMDMwNTY4OTVqICAwLjAxNjMyMTY2LTAuMDI3OTExMTNqICAwLjAxOTU1NDI4LTAuMDI0ODE2MDNqCiAuLi4gLTAuMDAwNzA0NTUtMC4wMzUyNDYxOWogIDAuMDA0MDIzMTktMC4wMzQyOTQyNWoKICAwLjAwODQ4OTQ5LTAuMDMyNzE3NjVqXQ==\" type=\"audio/x-wav\" />\n",
              "                    Your browser does not support the audio element.\n",
              "                </audio>\n",
              "              "
            ]
          },
          "metadata": {},
          "execution_count": 103
        }
      ]
    }
  ]
}